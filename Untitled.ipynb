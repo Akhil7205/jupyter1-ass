{
 "cells": [
  {
   "cell_type": "code",
   "execution_count": 12,
   "id": "db3de948-16ee-456b-8e95-498c3857386f",
   "metadata": {},
   "outputs": [],
   "source": [
    "import numpy as np"
   ]
  },
  {
   "cell_type": "code",
   "execution_count": 31,
   "id": "2ffd1803-841c-42d0-a350-aa9d0641e732",
   "metadata": {},
   "outputs": [],
   "source": [
    "a=np.array([1,2,3])"
   ]
  },
  {
   "cell_type": "code",
   "execution_count": 33,
   "id": "72879e0e-68cc-4ea8-b836-4658fa075d9a",
   "metadata": {},
   "outputs": [
    {
     "data": {
      "text/plain": [
       "numpy.ndarray"
      ]
     },
     "execution_count": 33,
     "metadata": {},
     "output_type": "execute_result"
    }
   ],
   "source": [
    "type(a)"
   ]
  },
  {
   "cell_type": "code",
   "execution_count": 50,
   "id": "ee3a1005-f7b9-4523-9006-8eb4fcfd3659",
   "metadata": {},
   "outputs": [
    {
     "data": {
      "text/plain": [
       "array([], dtype=float64)"
      ]
     },
     "execution_count": 50,
     "metadata": {},
     "output_type": "execute_result"
    }
   ],
   "source": [
    "np.array([])"
   ]
  },
  {
   "cell_type": "code",
   "execution_count": 66,
   "id": "4c68eb23-5072-455a-8a93-8edb2a23a56a",
   "metadata": {},
   "outputs": [
    {
     "name": "stdout",
     "output_type": "stream",
     "text": [
      "[1, 2, 3, 4, 5]\n",
      "<class 'list'>\n"
     ]
    }
   ],
   "source": [
    "list=[1,2,3,4,5]\n",
    "print(list)\n",
    "print(type(list))"
   ]
  },
  {
   "cell_type": "code",
   "execution_count": 72,
   "id": "c1642034-1bcd-463a-b04c-cbf5edfbf0a1",
   "metadata": {},
   "outputs": [
    {
     "name": "stdout",
     "output_type": "stream",
     "text": [
      "[1 2 3 4 5]\n"
     ]
    }
   ],
   "source": [
    "a=np.array(list)\n",
    "print(a)"
   ]
  },
  {
   "cell_type": "code",
   "execution_count": 74,
   "id": "f741051e-1ab3-4180-8056-ee81b25956b4",
   "metadata": {},
   "outputs": [
    {
     "data": {
      "text/plain": [
       "array([1, 2, 3, 4, 5])"
      ]
     },
     "execution_count": 74,
     "metadata": {},
     "output_type": "execute_result"
    }
   ],
   "source": [
    "a"
   ]
  },
  {
   "cell_type": "code",
   "execution_count": 78,
   "id": "9eec2578-fc22-4b11-a253-29b6388d8c41",
   "metadata": {},
   "outputs": [
    {
     "data": {
      "text/plain": [
       "numpy.ndarray"
      ]
     },
     "execution_count": 78,
     "metadata": {},
     "output_type": "execute_result"
    }
   ],
   "source": [
    "type(a)"
   ]
  },
  {
   "cell_type": "code",
   "execution_count": 80,
   "id": "5e55f975-a00d-422f-9daa-6c513d5c9fb9",
   "metadata": {},
   "outputs": [
    {
     "data": {
      "text/plain": [
       "1"
      ]
     },
     "execution_count": 80,
     "metadata": {},
     "output_type": "execute_result"
    }
   ],
   "source": [
    "a.ndim"
   ]
  },
  {
   "cell_type": "code",
   "execution_count": 82,
   "id": "78d5b9ae-60ed-4e4f-ada8-a9d7b9dca7ee",
   "metadata": {},
   "outputs": [
    {
     "data": {
      "text/plain": [
       "(5,)"
      ]
     },
     "execution_count": 82,
     "metadata": {},
     "output_type": "execute_result"
    }
   ],
   "source": [
    "a.shape"
   ]
  },
  {
   "cell_type": "code",
   "execution_count": 254,
   "id": "ba18c6c6-f008-4cd5-9332-0e592b4e57f6",
   "metadata": {},
   "outputs": [
    {
     "data": {
      "text/plain": [
       "dtype('<U1')"
      ]
     },
     "execution_count": 254,
     "metadata": {},
     "output_type": "execute_result"
    }
   ],
   "source": [
    "a=np.array(('a','k'))\n",
    "type(a)\n",
    "a.dtype\n",
    "# how n=a which is string is giving ndarray it should be string and if its homogenous than how come other data type is getting print"
   ]
  },
  {
   "cell_type": "code",
   "execution_count": 195,
   "id": "b4b40b35-2972-4bc9-960a-e4b7bb26723a",
   "metadata": {},
   "outputs": [
    {
     "data": {
      "text/plain": [
       "array([(), ()], dtype=[])"
      ]
     },
     "execution_count": 195,
     "metadata": {},
     "output_type": "execute_result"
    }
   ],
   "source": [
    "a=np.array([1,2],[])\n",
    "a\n"
   ]
  },
  {
   "cell_type": "code",
   "execution_count": 203,
   "id": "a22be58e-d6cb-435a-82f9-e67e09d19950",
   "metadata": {},
   "outputs": [
    {
     "data": {
      "text/plain": [
       "array([[ 1,  2],\n",
       "       [ 3,  4],\n",
       "       [ 3,  4],\n",
       "       [30,  4]])"
      ]
     },
     "execution_count": 203,
     "metadata": {},
     "output_type": "execute_result"
    }
   ],
   "source": [
    "a=np.array([[1,2],[3,4],[3,4],[30,4]])\n",
    "a"
   ]
  },
  {
   "cell_type": "code",
   "execution_count": 205,
   "id": "a272b1e0-34b9-482b-b085-8394d9c7ce09",
   "metadata": {},
   "outputs": [
    {
     "data": {
      "text/plain": [
       "2"
      ]
     },
     "execution_count": 205,
     "metadata": {},
     "output_type": "execute_result"
    }
   ],
   "source": [
    "a.ndim"
   ]
  },
  {
   "cell_type": "code",
   "execution_count": 207,
   "id": "ed41c3b1-a27a-4265-bb95-ee73d1ded450",
   "metadata": {},
   "outputs": [
    {
     "data": {
      "text/plain": [
       "(4, 2)"
      ]
     },
     "execution_count": 207,
     "metadata": {},
     "output_type": "execute_result"
    }
   ],
   "source": [
    "a.shape"
   ]
  },
  {
   "cell_type": "code",
   "execution_count": 223,
   "id": "42e3dc15-6d9a-4205-a458-395de8fa78fe",
   "metadata": {
    "scrolled": true
   },
   "outputs": [
    {
     "data": {
      "text/plain": [
       "array([[ 1,  2,  7],\n",
       "       [ 3,  7,  4],\n",
       "       [ 3,  5,  4],\n",
       "       [30,  5,  4]])"
      ]
     },
     "execution_count": 223,
     "metadata": {},
     "output_type": "execute_result"
    }
   ],
   "source": [
    "a=np.array([[1,2,7],[3,7,4],[3,5,4],[30,5,4]])\n",
    "a"
   ]
  },
  {
   "cell_type": "code",
   "execution_count": 225,
   "id": "6506a60a-aed3-4ecc-bc08-3cdfa74f503c",
   "metadata": {},
   "outputs": [
    {
     "data": {
      "text/plain": [
       "2"
      ]
     },
     "execution_count": 225,
     "metadata": {},
     "output_type": "execute_result"
    }
   ],
   "source": [
    "a.ndim"
   ]
  },
  {
   "cell_type": "code",
   "execution_count": 227,
   "id": "bdbc8d2b-bbec-481e-974a-6b6cf05baa0d",
   "metadata": {},
   "outputs": [
    {
     "data": {
      "text/plain": [
       "(4, 3)"
      ]
     },
     "execution_count": 227,
     "metadata": {},
     "output_type": "execute_result"
    }
   ],
   "source": [
    "a.shape"
   ]
  },
  {
   "cell_type": "code",
   "execution_count": 229,
   "id": "d91a3ee5-6ee5-4aa4-8b92-1df6769d0e40",
   "metadata": {},
   "outputs": [
    {
     "data": {
      "text/plain": [
       "12"
      ]
     },
     "execution_count": 229,
     "metadata": {},
     "output_type": "execute_result"
    }
   ],
   "source": [
    "a.size"
   ]
  },
  {
   "cell_type": "code",
   "execution_count": 231,
   "id": "71fde113-8226-4780-aa6c-9c420a46ed18",
   "metadata": {},
   "outputs": [
    {
     "data": {
      "text/plain": [
       "dtype('int32')"
      ]
     },
     "execution_count": 231,
     "metadata": {},
     "output_type": "execute_result"
    }
   ],
   "source": [
    "a.dtype"
   ]
  },
  {
   "cell_type": "code",
   "execution_count": 233,
   "id": "03c06163-9181-4cb2-81c4-3d976b851243",
   "metadata": {},
   "outputs": [
    {
     "data": {
      "text/plain": [
       "numpy.ndarray"
      ]
     },
     "execution_count": 233,
     "metadata": {},
     "output_type": "execute_result"
    }
   ],
   "source": [
    "type(a)"
   ]
  },
  {
   "cell_type": "code",
   "execution_count": 14,
   "id": "139b88b3-66f0-4de8-957d-65c96ce6cc38",
   "metadata": {},
   "outputs": [
    {
     "data": {
      "text/plain": [
       "array([[[ 1,  2,  7],\n",
       "        [ 3,  7,  4]],\n",
       "\n",
       "       [[ 3,  5,  4],\n",
       "        [30,  5,  4]]])"
      ]
     },
     "execution_count": 14,
     "metadata": {},
     "output_type": "execute_result"
    }
   ],
   "source": [
    "a=np.array([[[1,2,7],[3,7,4]],[[3,5,4],[30,5,4]]])\n",
    "a"
   ]
  },
  {
   "cell_type": "code",
   "execution_count": 242,
   "id": "1a7b792a-318c-41b8-aa07-e6113dbc172f",
   "metadata": {},
   "outputs": [
    {
     "data": {
      "text/plain": [
       "dtype('int32')"
      ]
     },
     "execution_count": 242,
     "metadata": {},
     "output_type": "execute_result"
    }
   ],
   "source": [
    "a.dtype\n"
   ]
  },
  {
   "cell_type": "code",
   "execution_count": 55,
   "id": "0c55b6ed-716c-4750-b1ff-62612e35cf8e",
   "metadata": {},
   "outputs": [
    {
     "data": {
      "text/plain": [
       "array([[[ 1,  2,  3],\n",
       "        [ 4,  5,  6]],\n",
       "\n",
       "       [[ 7,  8,  9],\n",
       "        [10, 11, 12]]])"
      ]
     },
     "execution_count": 55,
     "metadata": {},
     "output_type": "execute_result"
    }
   ],
   "source": [
    "arr1= np.array([[[1,2,3],[4,5,6]], [[7,8,9,],[10,11,12]]])\n",
    "arr1"
   ]
  },
  {
   "cell_type": "code",
   "execution_count": 258,
   "id": "5a30e985-b7b0-4876-a31b-509868947ade",
   "metadata": {},
   "outputs": [
    {
     "data": {
      "text/plain": [
       "(2, 2, 3)"
      ]
     },
     "execution_count": 258,
     "metadata": {},
     "output_type": "execute_result"
    }
   ],
   "source": [
    "arr1.shape\n",
    "\n"
   ]
  },
  {
   "cell_type": "code",
   "execution_count": 252,
   "id": "64e5e4db-7caa-4a2c-a7a8-ab60b1944b89",
   "metadata": {},
   "outputs": [
    {
     "data": {
      "text/plain": [
       "dtype('int32')"
      ]
     },
     "execution_count": 252,
     "metadata": {},
     "output_type": "execute_result"
    }
   ],
   "source": [
    "arr1.dtype"
   ]
  },
  {
   "cell_type": "code",
   "execution_count": 262,
   "id": "79e6777a-bcc0-4691-8693-91cbffff8747",
   "metadata": {},
   "outputs": [
    {
     "data": {
      "text/plain": [
       "array('this is', dtype='<U7')"
      ]
     },
     "execution_count": 262,
     "metadata": {},
     "output_type": "execute_result"
    }
   ],
   "source": [
    "ab=np.array('this is')\n",
    "ab"
   ]
  },
  {
   "cell_type": "code",
   "execution_count": 264,
   "id": "c153a438-6c6a-40fc-96fc-88d78534bec5",
   "metadata": {},
   "outputs": [
    {
     "data": {
      "text/plain": [
       "dtype('<U7')"
      ]
     },
     "execution_count": 264,
     "metadata": {},
     "output_type": "execute_result"
    }
   ],
   "source": [
    "ab.dtype"
   ]
  },
  {
   "cell_type": "code",
   "execution_count": 266,
   "id": "934bcc38-6d7a-43f9-8752-592843fef6d8",
   "metadata": {},
   "outputs": [
    {
     "data": {
      "text/plain": [
       "3.0"
      ]
     },
     "execution_count": 266,
     "metadata": {},
     "output_type": "execute_result"
    }
   ],
   "source": [
    "np.mean([1,2,3,4,5])"
   ]
  },
  {
   "cell_type": "code",
   "execution_count": 268,
   "id": "7c93f697-4840-4ef9-bcd2-cfed5057e62a",
   "metadata": {},
   "outputs": [
    {
     "data": {
      "text/plain": [
       "6.25"
      ]
     },
     "execution_count": 268,
     "metadata": {},
     "output_type": "execute_result"
    }
   ],
   "source": [
    "np.mean(a)"
   ]
  },
  {
   "cell_type": "code",
   "execution_count": 272,
   "id": "1360e006-7f15-4e70-983d-fce15c40f4a5",
   "metadata": {},
   "outputs": [
    {
     "data": {
      "text/plain": [
       "4.0"
      ]
     },
     "execution_count": 272,
     "metadata": {},
     "output_type": "execute_result"
    }
   ],
   "source": [
    "np.median(a)"
   ]
  },
  {
   "cell_type": "code",
   "execution_count": 1,
   "id": "c958dcac-4af8-477e-a482-a5d88de3f98d",
   "metadata": {},
   "outputs": [],
   "source": [
    " from scipy import stats"
   ]
  },
  {
   "cell_type": "code",
   "execution_count": 16,
   "id": "fcd97c9a-391e-4df4-99fd-52bd787bb213",
   "metadata": {},
   "outputs": [
    {
     "data": {
      "text/plain": [
       "ModeResult(mode=array([[1, 2, 4],\n",
       "       [3, 5, 4]], dtype=int64), count=array([[1, 1, 1],\n",
       "       [1, 1, 2]], dtype=int64))"
      ]
     },
     "execution_count": 16,
     "metadata": {},
     "output_type": "execute_result"
    }
   ],
   "source": [
    "stats.mode(a)"
   ]
  },
  {
   "cell_type": "code",
   "execution_count": 18,
   "id": "af554ae6-441d-4ba5-aa0e-7437ff0f810f",
   "metadata": {},
   "outputs": [
    {
     "data": {
      "text/plain": [
       "(2, 2, 3)"
      ]
     },
     "execution_count": 18,
     "metadata": {},
     "output_type": "execute_result"
    }
   ],
   "source": [
    "a.shape"
   ]
  },
  {
   "cell_type": "code",
   "execution_count": 43,
   "id": "ccb86df8-c064-486c-a257-cc1f7d9884f1",
   "metadata": {},
   "outputs": [
    {
     "data": {
      "text/plain": [
       "array([[[ 1,  2,  7],\n",
       "        [ 3,  7,  4],\n",
       "        [ 3,  5,  4],\n",
       "        [30,  5,  4]]])"
      ]
     },
     "execution_count": 43,
     "metadata": {},
     "output_type": "execute_result"
    }
   ],
   "source": [
    "a.reshape(1,4,3)"
   ]
  },
  {
   "cell_type": "code",
   "execution_count": 80,
   "id": "14f7bbbd-9d88-4a26-bf6b-4971b4d0b953",
   "metadata": {},
   "outputs": [
    {
     "data": {
      "text/plain": [
       "array([ 1,  2,  3,  4,  5,  6,  7,  8,  9, 10, 11])"
      ]
     },
     "execution_count": 80,
     "metadata": {},
     "output_type": "execute_result"
    }
   ],
   "source": [
    "np.arange(arr1[0,0,0],arr1[-1,-1,-1])"
   ]
  },
  {
   "cell_type": "code",
   "execution_count": 72,
   "id": "a2b568ac-e0f0-41b0-b799-94947d8d18d0",
   "metadata": {},
   "outputs": [
    {
     "data": {
      "text/plain": [
       "array([ 1,  2,  3,  4,  5,  6,  7,  8,  9, 10, 11, 12])"
      ]
     },
     "execution_count": 72,
     "metadata": {},
     "output_type": "execute_result"
    }
   ],
   "source": [
    "flat_arr = arr1.flatten()\n",
    "# np.arange(flat_arr[0], flat_arr[-1])\n",
    "arr1"
   ]
  },
  {
   "cell_type": "code",
   "execution_count": 74,
   "id": "8eefdab9-ef14-4a4d-a042-b958e3f941ba",
   "metadata": {},
   "outputs": [
    {
     "data": {
      "text/plain": [
       "array([ 1,  2,  3,  4,  5,  6,  7,  8,  9, 10, 11])"
      ]
     },
     "execution_count": 74,
     "metadata": {},
     "output_type": "execute_result"
    }
   ],
   "source": [
    "np.arange(flat_arr[0],flat_arr[-1])"
   ]
  },
  {
   "cell_type": "code",
   "execution_count": 82,
   "id": "0b626801-e228-418b-9a25-ae28470ab6b5",
   "metadata": {},
   "outputs": [
    {
     "data": {
      "text/plain": [
       "array([0., 0., 0.])"
      ]
     },
     "execution_count": 82,
     "metadata": {},
     "output_type": "execute_result"
    }
   ],
   "source": [
    "np.zeros(3)"
   ]
  },
  {
   "cell_type": "code",
   "execution_count": 116,
   "id": "dbd88a2a-fbad-4543-ab39-ca9d924da796",
   "metadata": {},
   "outputs": [
    {
     "data": {
      "text/plain": [
       "array([[[3., 3., 3., 3.],\n",
       "        [3., 3., 3., 3.],\n",
       "        [3., 3., 3., 3.]],\n",
       "\n",
       "       [[3., 3., 3., 3.],\n",
       "        [3., 3., 3., 3.],\n",
       "        [3., 3., 3., 3.]]])"
      ]
     },
     "execution_count": 116,
     "metadata": {},
     "output_type": "execute_result"
    }
   ],
   "source": [
    "a=np.zeros((2,3,4))\n",
    "b=a+3\n",
    "b"
   ]
  },
  {
   "cell_type": "code",
   "execution_count": 108,
   "id": "3fb19c85-6a82-43fe-94cf-79ecb9ff0f4a",
   "metadata": {},
   "outputs": [
    {
     "data": {
      "text/plain": [
       "array([[1., 1., 1.],\n",
       "       [1., 1., 1.]])"
      ]
     },
     "execution_count": 108,
     "metadata": {},
     "output_type": "execute_result"
    }
   ],
   "source": [
    "np.ones(2,3)"
   ]
  },
  {
   "cell_type": "code",
   "execution_count": 148,
   "id": "4ab463ff-1082-43ad-bb76-fd6e9952b45e",
   "metadata": {},
   "outputs": [
    {
     "data": {
      "text/plain": [
       "array([5.  , 4.75, 4.5 , 4.25, 4.  , 3.75, 3.5 , 3.25, 3.  ])"
      ]
     },
     "execution_count": 148,
     "metadata": {},
     "output_type": "execute_result"
    }
   ],
   "source": [
    "np.linspace(5,3,9)"
   ]
  },
  {
   "cell_type": "code",
   "execution_count": 154,
   "id": "f500e605-68c7-44b7-82d7-b71d71188062",
   "metadata": {},
   "outputs": [
    {
     "data": {
      "text/plain": [
       "(array([90. , 82.5, 75. , 67.5, 60. , 52.5, 45. , 37.5, 30. ]), -7.5)"
      ]
     },
     "execution_count": 154,
     "metadata": {},
     "output_type": "execute_result"
    }
   ],
   "source": [
    "np.linspace(90,30,9,retstep=True)"
   ]
  },
  {
   "cell_type": "code",
   "execution_count": 170,
   "id": "f4d3a04c-7d56-49be-a5df-f3f426d06c64",
   "metadata": {},
   "outputs": [
    {
     "data": {
      "text/plain": [
       "array([[1., 0., 0.],\n",
       "       [0., 1., 0.],\n",
       "       [0., 0., 1.]])"
      ]
     },
     "execution_count": 170,
     "metadata": {},
     "output_type": "execute_result"
    }
   ],
   "source": [
    "np.eye(3)"
   ]
  },
  {
   "cell_type": "code",
   "execution_count": 190,
   "id": "146af865-3d18-44dd-9112-7c00c93c704a",
   "metadata": {},
   "outputs": [
    {
     "name": "stdout",
     "output_type": "stream",
     "text": [
      "[1, 2, 3, 4, 4]\n"
     ]
    }
   ],
   "source": [
    "no1=[1,2,3,4,4]\n",
    "# no1=no1*3\n",
    "print(no1)"
   ]
  },
  {
   "cell_type": "code",
   "execution_count": 192,
   "id": "5514a247-8421-4c69-bc1d-9f45876f56d2",
   "metadata": {},
   "outputs": [
    {
     "name": "stdout",
     "output_type": "stream",
     "text": [
      "[ 3  6  9 12 12]\n"
     ]
    }
   ],
   "source": [
    "no2=np.array(no1)\n",
    "no=no2*3\n",
    "print(no)"
   ]
  },
  {
   "cell_type": "code",
   "execution_count": 200,
   "id": "0bcd4f1f-d2ae-403f-a4da-faf07d8eedf1",
   "metadata": {},
   "outputs": [
    {
     "name": "stdout",
     "output_type": "stream",
     "text": [
      "[2, 3, 4, 5, 5, 2, 3, 4, 5, 5]\n",
      "[2, 3, 4, 5, 5, 3, 4, 43, 4]\n"
     ]
    }
   ],
   "source": [
    "n=[2,3,4,5,5]\n",
    "n2=[3,4,43,4]\n",
    "print(n+n)\n",
    "print(n+n2)\n"
   ]
  },
  {
   "cell_type": "code",
   "execution_count": 206,
   "id": "35b6efc4-bc2e-4bb7-a484-e6023ee5403f",
   "metadata": {},
   "outputs": [
    {
     "data": {
      "text/plain": [
       "array([ 4,  6,  8, 10, 10])"
      ]
     },
     "execution_count": 206,
     "metadata": {},
     "output_type": "execute_result"
    }
   ],
   "source": [
    "a=np.array(n)\n",
    "np.array(n2)\n",
    "a+a"
   ]
  },
  {
   "cell_type": "code",
   "execution_count": 236,
   "id": "78fde4d5-f742-4df1-847f-fed7d5452573",
   "metadata": {},
   "outputs": [
    {
     "name": "stdout",
     "output_type": "stream",
     "text": [
      "<class 'numpy.ndarray'>\n"
     ]
    },
    {
     "data": {
      "text/plain": [
       "array([[0.54616737, 0.18779244],\n",
       "       [0.09830233, 0.24146344],\n",
       "       [0.86106401, 0.18608513]])"
      ]
     },
     "execution_count": 236,
     "metadata": {},
     "output_type": "execute_result"
    }
   ],
   "source": [
    "a=np.random.rand(3,2)\n",
    "print(type(a))\n",
    "a"
   ]
  },
  {
   "cell_type": "code",
   "execution_count": 224,
   "id": "5ecb8808-f204-4f05-8ccf-d64276ba3f35",
   "metadata": {},
   "outputs": [
    {
     "data": {
      "text/plain": [
       "array([[ 0.05959256,  0.99242529],\n",
       "       [-0.69059361, -0.23418809],\n",
       "       [ 0.77730754, -0.22040228]])"
      ]
     },
     "execution_count": 224,
     "metadata": {},
     "output_type": "execute_result"
    }
   ],
   "source": [
    "np.random.randn(3,2)"
   ]
  },
  {
   "cell_type": "code",
   "execution_count": 248,
   "id": "4b75252f-cd35-4f6e-badc-5eea8a49664d",
   "metadata": {},
   "outputs": [
    {
     "data": {
      "text/plain": [
       "array([10,  5,  3,  6,  2,  1, 10,  5,  2, 11])"
      ]
     },
     "execution_count": 248,
     "metadata": {},
     "output_type": "execute_result"
    }
   ],
   "source": [
    "np.random.randint(1,12,10)"
   ]
  },
  {
   "cell_type": "code",
   "execution_count": null,
   "id": "ef6c1a65-6674-486a-93a4-3c58ea6584f7",
   "metadata": {},
   "outputs": [],
   "source": []
  }
 ],
 "metadata": {
  "kernelspec": {
   "display_name": "Python [conda env:base] *",
   "language": "python",
   "name": "conda-base-py"
  },
  "language_info": {
   "codemirror_mode": {
    "name": "ipython",
    "version": 3
   },
   "file_extension": ".py",
   "mimetype": "text/x-python",
   "name": "python",
   "nbconvert_exporter": "python",
   "pygments_lexer": "ipython3",
   "version": "3.12.7"
  }
 },
 "nbformat": 4,
 "nbformat_minor": 5
}
