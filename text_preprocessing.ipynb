{
 "cells": [
  {
   "cell_type": "code",
   "execution_count": 5,
   "id": "7317018c-e8c7-4ce0-b9ff-26584a523f67",
   "metadata": {},
   "outputs": [
    {
     "name": "stdout",
     "output_type": "stream",
     "text": [
      "Overwriting abc.txt\n"
     ]
    }
   ],
   "source": [
    "%%writefile abc.txt\n",
    "this is file in  which \n",
    "there is no one to do any shoit abou therse "
   ]
  },
  {
   "cell_type": "code",
   "execution_count": 7,
   "id": "40bdff67-4237-4e4f-b9df-ec9d1a7c8640",
   "metadata": {},
   "outputs": [],
   "source": [
    "myfile=open('abc.txt')"
   ]
  },
  {
   "cell_type": "code",
   "execution_count": 9,
   "id": "3e3e6141-ef34-4052-b164-cb02a356b424",
   "metadata": {},
   "outputs": [
    {
     "data": {
      "text/plain": [
       "'this is file in  which \\nthere is no one to do any shoit abou therse \\n'"
      ]
     },
     "execution_count": 9,
     "metadata": {},
     "output_type": "execute_result"
    }
   ],
   "source": [
    "myfile.read()"
   ]
  },
  {
   "cell_type": "code",
   "execution_count": 36,
   "id": "accf0107-8d4f-49dd-8c42-d9772f78cc8e",
   "metadata": {},
   "outputs": [
    {
     "data": {
      "text/plain": [
       "0"
      ]
     },
     "execution_count": 36,
     "metadata": {},
     "output_type": "execute_result"
    }
   ],
   "source": [
    "myfile.seek(0)"
   ]
  },
  {
   "cell_type": "code",
   "execution_count": 13,
   "id": "fd032406-ba72-43a7-8620-816e3ae260e9",
   "metadata": {},
   "outputs": [
    {
     "data": {
      "text/plain": [
       "1"
      ]
     },
     "execution_count": 13,
     "metadata": {},
     "output_type": "execute_result"
    }
   ],
   "source": [
    "myfile.seek(1)"
   ]
  },
  {
   "cell_type": "code",
   "execution_count": 41,
   "id": "8d7887c7-6b65-4646-b8aa-00225bafc772",
   "metadata": {},
   "outputs": [
    {
     "data": {
      "text/plain": [
       "'there is no one to do any shoit abou therse \\n'"
      ]
     },
     "execution_count": 41,
     "metadata": {},
     "output_type": "execute_result"
    }
   ],
   "source": [
    "myfile.readline()"
   ]
  },
  {
   "cell_type": "code",
   "execution_count": null,
   "id": "01081f38-8510-4c6b-9c7c-58748f0ba5d1",
   "metadata": {},
   "outputs": [],
   "source": []
  },
  {
   "cell_type": "code",
   "execution_count": 59,
   "id": "b41a607d-433a-49cb-921e-b129c703e9b1",
   "metadata": {},
   "outputs": [
    {
     "ename": "AttributeError",
     "evalue": "'_io.TextIOWrapper' object has no attribute 'open'",
     "output_type": "error",
     "traceback": [
      "\u001b[1;31m---------------------------------------------------------------------------\u001b[0m",
      "\u001b[1;31mAttributeError\u001b[0m                            Traceback (most recent call last)",
      "Cell \u001b[1;32mIn[59], line 1\u001b[0m\n\u001b[1;32m----> 1\u001b[0m myfile\u001b[38;5;241m.\u001b[39mopen(\u001b[38;5;124m'\u001b[39m\u001b[38;5;124mabc.txt\u001b[39m\u001b[38;5;124m'\u001b[39m,mode\u001b[38;5;241m=\u001b[39m\u001b[38;5;124m'\u001b[39m\u001b[38;5;124mw\u001b[39m\u001b[38;5;124m'\u001b[39m)\n",
      "\u001b[1;31mAttributeError\u001b[0m: '_io.TextIOWrapper' object has no attribute 'open'"
     ]
    }
   ],
   "source": [
    "myfile.open('abc.txt',mode='w')"
   ]
  },
  {
   "cell_type": "code",
   "execution_count": 104,
   "id": "3f2a4247-a453-4d72-8ec5-984b93b5baa3",
   "metadata": {},
   "outputs": [],
   "source": [
    "myfile=open('abc.txt',mode='w')\n",
    "myfile.write(\"this is newline\\n this is good\\n sdfsf\")\n",
    "myfile.close()"
   ]
  },
  {
   "cell_type": "code",
   "execution_count": 122,
   "id": "01a4ef50-bc58-44cb-8dc2-302241d652e3",
   "metadata": {},
   "outputs": [
    {
     "data": {
      "text/plain": [
       "'this is newline\\n this is good\\n sdfsf'"
      ]
     },
     "execution_count": 122,
     "metadata": {},
     "output_type": "execute_result"
    }
   ],
   "source": [
    "myfile=open('abc.txt')\n",
    "myfile.seek(0)\n",
    "myfile.read()"
   ]
  },
  {
   "cell_type": "code",
   "execution_count": 81,
   "id": "527f9733-48d1-421f-aef6-639eb140b660",
   "metadata": {},
   "outputs": [],
   "source": [
    "myfile = open('abc.txt', mode='w')\n",
    "myfile.write(\"this is file\\n content\")\n",
    "myfile.close()\n"
   ]
  },
  {
   "cell_type": "code",
   "execution_count": 24,
   "id": "3c7ddb25-0452-42c8-9023-7954fd9ff7d6",
   "metadata": {},
   "outputs": [
    {
     "name": "stdout",
     "output_type": "stream",
     "text": [
      "Note: you may need to restart the kernel to use updated packages.Requirement already satisfied: PyPDF2 in e:\\newanaconda\\lib\\site-packages (3.0.1)\n",
      "\n"
     ]
    }
   ],
   "source": [
    "pip install PyPDF2"
   ]
  },
  {
   "cell_type": "code",
   "execution_count": 22,
   "id": "58375b18-f44a-476c-993d-c5782672ab51",
   "metadata": {},
   "outputs": [],
   "source": [
    "# pyPDF.open(\"Users\\akhil\\Downloads\\yolo.pdf\")"
   ]
  },
  {
   "cell_type": "code",
   "execution_count": null,
   "id": "3837cd7c-c200-49ef-a3ea-703e6c12fffc",
   "metadata": {},
   "outputs": [],
   "source": [
    "myfile.metadata"
   ]
  },
  {
   "cell_type": "code",
   "execution_count": 34,
   "id": "cd2bcc86-ad21-44fc-abbd-bf86ca3b922f",
   "metadata": {},
   "outputs": [],
   "source": [
    "import PyPDF2\n",
    "myfile=PyPDF2.PdfReader('yolo.pdf')"
   ]
  },
  {
   "cell_type": "code",
   "execution_count": 36,
   "id": "262d3c52-ac68-48ed-8f7a-9474b83600cb",
   "metadata": {},
   "outputs": [
    {
     "data": {
      "text/plain": [
       "<PyPDF2._reader.PdfReader at 0x2445361eae0>"
      ]
     },
     "execution_count": 36,
     "metadata": {},
     "output_type": "execute_result"
    }
   ],
   "source": [
    "myfile"
   ]
  },
  {
   "cell_type": "code",
   "execution_count": 40,
   "id": "a602ad37-a1ad-4605-b5ea-1c236f243030",
   "metadata": {},
   "outputs": [
    {
     "data": {
      "text/plain": [
       "{'/Author': '',\n",
       " '/CreationDate': \"D:20241214170213+08'00'\",\n",
       " '/Creator': 'PScript5.dll Version 5.2.2',\n",
       " '/ModDate': \"D:20241214100446+01'00'\",\n",
       " '/Producer': 'Acrobat Distiller 17.0 (Windows)',\n",
       " '/Title': '',\n",
       " '/rgid': 'PB:387054177_AS:11431281297904734@1734218241101'}"
      ]
     },
     "execution_count": 40,
     "metadata": {},
     "output_type": "execute_result"
    }
   ],
   "source": [
    "myfile.metadata"
   ]
  },
  {
   "cell_type": "code",
   "execution_count": 42,
   "id": "c02ea41f-61b4-4569-9b66-1a58fc0b0d9d",
   "metadata": {},
   "outputs": [
    {
     "name": "stdout",
     "output_type": "stream",
     "text": [
      "<PyPDF2._page._VirtualList object at 0x0000024453698CE0>\n",
      "<class 'PyPDF2._page._VirtualList'>\n",
      "40\n"
     ]
    }
   ],
   "source": [
    "mypages = myfile.pages\n",
    "print(mypages)\n",
    "print(type(mypages))\n",
    "print(len(mypages))"
   ]
  },
  {
   "cell_type": "code",
   "execution_count": 62,
   "id": "a5e7355f-6d5a-4c4d-bc42-337273f359ee",
   "metadata": {},
   "outputs": [],
   "source": [
    "my=mypages[1:3].extract_text()"
   ]
  },
  {
   "cell_type": "code",
   "execution_count": 64,
   "id": "dff6a89f-fa61-47d0-9920-aa80d617b805",
   "metadata": {},
   "outputs": [
    {
     "ename": "AttributeError",
     "evalue": "'_VirtualList' object has no attribute 'extract_text'",
     "output_type": "error",
     "traceback": [
      "\u001b[1;31m---------------------------------------------------------------------------\u001b[0m",
      "\u001b[1;31mAttributeError\u001b[0m                            Traceback (most recent call last)",
      "Cell \u001b[1;32mIn[64], line 1\u001b[0m\n\u001b[1;32m----> 1\u001b[0m my\u001b[38;5;241m.\u001b[39mextract_text()\n",
      "\u001b[1;31mAttributeError\u001b[0m: '_VirtualList' object has no attribute 'extract_text'"
     ]
    }
   ],
   "source": [
    "my.extract_text()"
   ]
  },
  {
   "cell_type": "code",
   "execution_count": 68,
   "id": "b1c84299-25a7-4a44-8789-98575950cb57",
   "metadata": {},
   "outputs": [],
   "source": [
    "with open(\"yolo.pdf\", \"w\", encoding=\"utf-8\") as f:\n",
    "    f.write('yolo.pdf')\n"
   ]
  },
  {
   "cell_type": "code",
   "execution_count": 70,
   "id": "8129c24a-425b-4a14-9698-28e506abeca9",
   "metadata": {},
   "outputs": [
    {
     "data": {
      "text/plain": [
       "<_io.TextIOWrapper name='yolo.pdf' mode='w' encoding='utf-8'>"
      ]
     },
     "execution_count": 70,
     "metadata": {},
     "output_type": "execute_result"
    }
   ],
   "source": [
    "f"
   ]
  },
  {
   "cell_type": "code",
   "execution_count": 72,
   "id": "887bc153-d607-4e76-b461-649d32bdbd7d",
   "metadata": {},
   "outputs": [
    {
     "ename": "AttributeError",
     "evalue": "'_io.TextIOWrapper' object has no attribute 'metadata'",
     "output_type": "error",
     "traceback": [
      "\u001b[1;31m---------------------------------------------------------------------------\u001b[0m",
      "\u001b[1;31mAttributeError\u001b[0m                            Traceback (most recent call last)",
      "Cell \u001b[1;32mIn[72], line 1\u001b[0m\n\u001b[1;32m----> 1\u001b[0m f\u001b[38;5;241m.\u001b[39mmetadata\n",
      "\u001b[1;31mAttributeError\u001b[0m: '_io.TextIOWrapper' object has no attribute 'metadata'"
     ]
    }
   ],
   "source": [
    "f.metadata\n"
   ]
  },
  {
   "cell_type": "code",
   "execution_count": null,
   "id": "bfe5ca0d-a66d-4157-a7da-67ed51c54d33",
   "metadata": {},
   "outputs": [],
   "source": [
    "import nltk\n",
    "nltk.download('stopwords') "
   ]
  },
  {
   "cell_type": "code",
   "execution_count": null,
   "id": "25305327-538a-414c-b8a8-8d11e1c88879",
   "metadata": {},
   "outputs": [],
   "source": []
  }
 ],
 "metadata": {
  "kernelspec": {
   "display_name": "Python [conda env:base] *",
   "language": "python",
   "name": "conda-base-py"
  },
  "language_info": {
   "codemirror_mode": {
    "name": "ipython",
    "version": 3
   },
   "file_extension": ".py",
   "mimetype": "text/x-python",
   "name": "python",
   "nbconvert_exporter": "python",
   "pygments_lexer": "ipython3",
   "version": "3.12.7"
  }
 },
 "nbformat": 4,
 "nbformat_minor": 5
}
