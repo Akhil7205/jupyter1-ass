{
 "cells": [
  {
   "cell_type": "raw",
   "id": "0a34392c-2795-4997-b842-6983b3851f3e",
   "metadata": {},
   "source": [
    "#numppy Array "
   ]
  },
  {
   "cell_type": "code",
   "execution_count": null,
   "id": "257ad53e-3cf1-4726-ab08-ae43ae8f47fc",
   "metadata": {},
   "outputs": [],
   "source": []
  },
  {
   "cell_type": "code",
   "execution_count": 99,
   "id": "5cfff820-b112-482b-b5ec-22665eeeaa82",
   "metadata": {},
   "outputs": [
    {
     "name": "stdout",
     "output_type": "stream",
     "text": [
      "306 ns ± 2.19 ns per loop (mean ± std. dev. of 7 runs, 1,000,000 loops each)\n"
     ]
    }
   ],
   "source": [
    "%timeit [ i for i in range (1,10)]"
   ]
  },
  {
   "cell_type": "code",
   "execution_count": 95,
   "id": "1f899a81-2c2a-4a35-aca0-2f4050b55028",
   "metadata": {},
   "outputs": [
    {
     "name": "stdout",
     "output_type": "stream",
     "text": [
      "1.66 μs ± 182 ns per loop (mean ± std. dev. of 7 runs, 1,000,000 loops each)\n"
     ]
    }
   ],
   "source": [
    "import numpy as np\n",
    "%timeit np.arange(1,50)*4"
   ]
  },
  {
   "cell_type": "code",
   "execution_count": 85,
   "id": "1ecb4602-b82a-4e37-a521-efe851bd95f7",
   "metadata": {},
   "outputs": [
    {
     "name": "stdout",
     "output_type": "stream",
     "text": [
      "422 ns ± 26.6 ns per loop (mean ± std. dev. of 7 runs, 1,000,000 loops each)\n"
     ]
    }
   ],
   "source": [
    "%timeit [i*4 for i in range (1,10)]"
   ]
  },
  {
   "cell_type": "code",
   "execution_count": 115,
   "id": "3bf9157e-af72-4ead-b34b-44b33e7d1f8f",
   "metadata": {},
   "outputs": [
    {
     "name": "stdout",
     "output_type": "stream",
     "text": [
      "<class 'numpy.ndarray'>\n"
     ]
    },
    {
     "data": {
      "text/plain": [
       "array(['1', '2', '34', '5'], dtype='<U11')"
      ]
     },
     "execution_count": 115,
     "metadata": {},
     "output_type": "execute_result"
    }
   ],
   "source": [
    "a=np.array([1,'2',34,5,])\n",
    "print(type(a))\n",
    "a"
   ]
  },
  {
   "cell_type": "code",
   "execution_count": 119,
   "id": "06ebd34a-2888-4e86-b685-6eed678bc7bd",
   "metadata": {},
   "outputs": [
    {
     "name": "stdout",
     "output_type": "stream",
     "text": [
      "<class 'list'>\n"
     ]
    },
    {
     "data": {
      "text/plain": [
       "[1, 2, 3, 4]"
      ]
     },
     "execution_count": 119,
     "metadata": {},
     "output_type": "execute_result"
    }
   ],
   "source": [
    "l=[1,2,3,4,]\n",
    "print(type(l))\n",
    "l\n"
   ]
  },
  {
   "cell_type": "code",
   "execution_count": 157,
   "id": "a521f07e-70ee-4a03-9015-e3333bb58d8f",
   "metadata": {},
   "outputs": [
    {
     "name": "stdin",
     "output_type": "stream",
     "text": [
      "enter no: 7\n",
      "enter no: 6\n",
      "enter no: 6\n",
      "enter no: 6\n"
     ]
    },
    {
     "name": "stdout",
     "output_type": "stream",
     "text": [
      "[7 6 6 6]\n"
     ]
    }
   ],
   "source": [
    "lst=[]\n",
    "for l in range(1,5):\n",
    "    aa=int(input('enter no:'))\n",
    "    lst.append(aa)\n",
    "    \n",
    "print(np.array(lst))"
   ]
  },
  {
   "cell_type": "code",
   "execution_count": 175,
   "id": "4728f1b3-5677-4537-9022-f455c88531b7",
   "metadata": {},
   "outputs": [
    {
     "data": {
      "text/plain": [
       "array([ 1,  2, 34,  4])"
      ]
     },
     "execution_count": 175,
     "metadata": {},
     "output_type": "execute_result"
    }
   ],
   "source": [
    "a=np.array([1,2,34,4])\n",
    "a"
   ]
  },
  {
   "cell_type": "code",
   "execution_count": 431,
   "id": "22da7f04-7345-48d7-b39e-5023c1127af8",
   "metadata": {},
   "outputs": [
    {
     "data": {
      "text/plain": [
       "array([[[[[[[[[[ 1,  2,  3, 41,  2,  3]]]]]]]]]])"
      ]
     },
     "execution_count": 431,
     "metadata": {},
     "output_type": "execute_result"
    }
   ],
   "source": [
    "a=np.array([[1,2,3,41,2,3]],ndmin=10)\n",
    "a"
   ]
  },
  {
   "cell_type": "code",
   "execution_count": 433,
   "id": "fe0e5016-1437-4711-9dde-9a949caec2b6",
   "metadata": {},
   "outputs": [
    {
     "data": {
      "text/plain": [
       "1"
      ]
     },
     "execution_count": 433,
     "metadata": {},
     "output_type": "execute_result"
    }
   ],
   "source": [
    "a = np.array([1, 2, 3, 41, 2, 3])\n",
    "a.ndim"
   ]
  },
  {
   "cell_type": "code",
   "execution_count": 159,
   "id": "7356d3d3-4b3c-40fe-aaf7-9d4b82d5dc6f",
   "metadata": {},
   "outputs": [],
   "source": [
    "# zeroes and ones"
   ]
  },
  {
   "cell_type": "code",
   "execution_count": 337,
   "id": "d4f81cd5-a21f-46cf-94f2-e1f9577b2b7c",
   "metadata": {},
   "outputs": [
    {
     "data": {
      "text/plain": [
       "array([[0., 0., 0., 0., 0., 0.],\n",
       "       [0., 0., 0., 0., 0., 0.],\n",
       "       [0., 0., 0., 0., 0., 0.],\n",
       "       [0., 0., 0., 0., 0., 0.]])"
      ]
     },
     "execution_count": 337,
     "metadata": {},
     "output_type": "execute_result"
    }
   ],
   "source": [
    "ar=np.zeros((4,6))\n",
    "ar"
   ]
  },
  {
   "cell_type": "code",
   "execution_count": 335,
   "id": "7b7ea431-3a91-48c3-812b-2aa4b7042125",
   "metadata": {},
   "outputs": [
    {
     "name": "stdout",
     "output_type": "stream",
     "text": [
      "3\n"
     ]
    }
   ],
   "source": [
    "a=np.zeros([3,4,5])\n",
    "print(a.ndim)"
   ]
  },
  {
   "cell_type": "code",
   "execution_count": 315,
   "id": "2ea6fdfe-9454-477b-af55-5ea7a4d00825",
   "metadata": {},
   "outputs": [
    {
     "data": {
      "text/plain": [
       "array([[1., 1., 1., 1., 1., 1.],\n",
       "       [1., 1., 1., 1., 1., 1.],\n",
       "       [1., 1., 1., 1., 1., 1.],\n",
       "       [1., 1., 1., 1., 1., 1.]])"
      ]
     },
     "execution_count": 315,
     "metadata": {},
     "output_type": "execute_result"
    }
   ],
   "source": [
    "a=np.ones([4,6])\n",
    "a"
   ]
  },
  {
   "cell_type": "code",
   "execution_count": 243,
   "id": "e6240779-8e69-4aef-8f65-1def61b0c1c8",
   "metadata": {},
   "outputs": [
    {
     "data": {
      "text/plain": [
       "array([1., 1., 1., 1.])"
      ]
     },
     "execution_count": 243,
     "metadata": {},
     "output_type": "execute_result"
    }
   ],
   "source": [
    "a=np.empty(4)\n",
    "a"
   ]
  },
  {
   "cell_type": "code",
   "execution_count": 323,
   "id": "aab6a284-e868-416d-81dc-175dc44e03e1",
   "metadata": {},
   "outputs": [
    {
     "data": {
      "text/plain": [
       "array([0, 1, 2, 3, 4])"
      ]
     },
     "execution_count": 323,
     "metadata": {},
     "output_type": "execute_result"
    }
   ],
   "source": [
    "a=np.arange((5))\n",
    "a"
   ]
  },
  {
   "cell_type": "code",
   "execution_count": 343,
   "id": "10cda5e3-7d8f-4e0e-bd94-e2af764d770a",
   "metadata": {},
   "outputs": [
    {
     "data": {
      "text/plain": [
       "array([[1., 0., 0., 0., 0., 0., 0.],\n",
       "       [0., 1., 0., 0., 0., 0., 0.],\n",
       "       [0., 0., 1., 0., 0., 0., 0.],\n",
       "       [0., 0., 0., 1., 0., 0., 0.],\n",
       "       [0., 0., 0., 0., 1., 0., 0.],\n",
       "       [0., 0., 0., 0., 0., 1., 0.],\n",
       "       [0., 0., 0., 0., 0., 0., 1.]])"
      ]
     },
     "execution_count": 343,
     "metadata": {},
     "output_type": "execute_result"
    }
   ],
   "source": [
    "a=np.eye(7,7)\n",
    "a"
   ]
  },
  {
   "cell_type": "code",
   "execution_count": 359,
   "id": "edeef468-725b-46bd-8183-d71aebb72711",
   "metadata": {},
   "outputs": [
    {
     "data": {
      "text/plain": [
       "array([1.        , 1.04597701, 1.09195402, 1.13793103, 1.18390805,\n",
       "       1.22988506, 1.27586207, 1.32183908, 1.36781609, 1.4137931 ,\n",
       "       1.45977011, 1.50574713, 1.55172414, 1.59770115, 1.64367816,\n",
       "       1.68965517, 1.73563218, 1.7816092 , 1.82758621, 1.87356322,\n",
       "       1.91954023, 1.96551724, 2.01149425, 2.05747126, 2.10344828,\n",
       "       2.14942529, 2.1954023 , 2.24137931, 2.28735632, 2.33333333,\n",
       "       2.37931034, 2.42528736, 2.47126437, 2.51724138, 2.56321839,\n",
       "       2.6091954 , 2.65517241, 2.70114943, 2.74712644, 2.79310345,\n",
       "       2.83908046, 2.88505747, 2.93103448, 2.97701149, 3.02298851,\n",
       "       3.06896552, 3.11494253, 3.16091954, 3.20689655, 3.25287356,\n",
       "       3.29885057, 3.34482759, 3.3908046 , 3.43678161, 3.48275862,\n",
       "       3.52873563, 3.57471264, 3.62068966, 3.66666667, 3.71264368,\n",
       "       3.75862069, 3.8045977 , 3.85057471, 3.89655172, 3.94252874,\n",
       "       3.98850575, 4.03448276, 4.08045977, 4.12643678, 4.17241379,\n",
       "       4.2183908 , 4.26436782, 4.31034483, 4.35632184, 4.40229885,\n",
       "       4.44827586, 4.49425287, 4.54022989, 4.5862069 , 4.63218391,\n",
       "       4.67816092, 4.72413793, 4.77011494, 4.81609195, 4.86206897,\n",
       "       4.90804598, 4.95402299, 5.        ])"
      ]
     },
     "execution_count": 359,
     "metadata": {},
     "output_type": "execute_result"
    }
   ],
   "source": [
    "np.linspace(1,5,num=88)"
   ]
  },
  {
   "cell_type": "code",
   "execution_count": 451,
   "id": "6d6d0d66-6993-4dce-bd6d-1a0f26bc76d4",
   "metadata": {},
   "outputs": [
    {
     "data": {
      "text/plain": [
       "array([[[0.6093129 , 0.07428497, 0.76031941],\n",
       "        [0.92842485, 0.03178504, 0.79990806],\n",
       "        [0.52002072, 0.86993409, 0.54083709],\n",
       "        [0.19506253, 0.28816327, 0.34009688],\n",
       "        [0.76537141, 0.40514433, 0.71369002],\n",
       "        [0.17077923, 0.07859404, 0.79686585],\n",
       "        [0.54138492, 0.25114907, 0.60985366],\n",
       "        [0.78742112, 0.96070223, 0.15481145]],\n",
       "\n",
       "       [[0.7969933 , 0.63544712, 0.64101444],\n",
       "        [0.58781279, 0.36766786, 0.50560803],\n",
       "        [0.44150008, 0.911475  , 0.63070949],\n",
       "        [0.5227858 , 0.85647652, 0.94538516],\n",
       "        [0.9988451 , 0.41051986, 0.71490354],\n",
       "        [0.54746683, 0.62341359, 0.70449893],\n",
       "        [0.84567568, 0.73266812, 0.824424  ],\n",
       "        [0.26153717, 0.13512837, 0.10694187]]])"
      ]
     },
     "execution_count": 451,
     "metadata": {},
     "output_type": "execute_result"
    }
   ],
   "source": [
    "a=np.random.ranf((2,8,3))\n",
    "a.ndim\n",
    "a"
   ]
  },
  {
   "cell_type": "code",
   "execution_count": 470,
   "id": "ae66ebcb-ba0d-4cfa-ad1b-566091ea36c4",
   "metadata": {},
   "outputs": [
    {
     "data": {
      "text/plain": [
       "array([9, 5, 8, 8, 8, 5])"
      ]
     },
     "execution_count": 470,
     "metadata": {},
     "output_type": "execute_result"
    }
   ],
   "source": [
    "np.random.randint(5,10,6)"
   ]
  },
  {
   "cell_type": "code",
   "execution_count": 480,
   "id": "53bf5a9e-c430-4ed1-9000-aeef457e0fbd",
   "metadata": {},
   "outputs": [
    {
     "data": {
      "text/plain": [
       "array([[[0.6093129 , 0.07428497, 0.7603194 ],\n",
       "        [0.92842484, 0.03178504, 0.79990804],\n",
       "        [0.5200207 , 0.8699341 , 0.5408371 ],\n",
       "        [0.19506253, 0.28816327, 0.34009686],\n",
       "        [0.76537144, 0.40514433, 0.71369004],\n",
       "        [0.17077923, 0.07859404, 0.7968658 ],\n",
       "        [0.54138494, 0.2511491 , 0.6098537 ],\n",
       "        [0.7874211 , 0.96070224, 0.15481146]],\n",
       "\n",
       "       [[0.7969933 , 0.63544714, 0.64101446],\n",
       "        [0.5878128 , 0.36766785, 0.505608  ],\n",
       "        [0.44150007, 0.911475  , 0.63070947],\n",
       "        [0.5227858 , 0.85647655, 0.94538516],\n",
       "        [0.9988451 , 0.41051987, 0.71490353],\n",
       "        [0.5474668 , 0.62341356, 0.70449895],\n",
       "        [0.8456757 , 0.7326681 , 0.824424  ],\n",
       "        [0.26153716, 0.13512838, 0.10694187]]], dtype=float32)"
      ]
     },
     "execution_count": 480,
     "metadata": {},
     "output_type": "execute_result"
    }
   ],
   "source": [
    "b=np.float32(a)\n",
    "b"
   ]
  },
  {
   "cell_type": "code",
   "execution_count": 506,
   "id": "c7a4e9a2-61ec-4e59-b828-46528a946868",
   "metadata": {},
   "outputs": [
    {
     "data": {
      "text/plain": [
       "dtype('int32')"
      ]
     },
     "execution_count": 506,
     "metadata": {},
     "output_type": "execute_result"
    }
   ],
   "source": [
    "x=np.array([1,2,3,4,],dtype=\"f\")\n",
    "x\n",
    "a=np.int_(x)\n",
    "a.dtype"
   ]
  },
  {
   "cell_type": "code",
   "execution_count": 669,
   "id": "a515d4c7-377f-43fc-8f84-bc9657842fe3",
   "metadata": {},
   "outputs": [
    {
     "name": "stdout",
     "output_type": "stream",
     "text": [
      "(12,)\n"
     ]
    },
    {
     "data": {
      "text/plain": [
       "3"
      ]
     },
     "execution_count": 669,
     "metadata": {},
     "output_type": "execute_result"
    }
   ],
   "source": [
    "a=np.array([1,2,3,4,5,6,4,5,3,4,5,6])\n",
    "print(a.shape)\n",
    "x=a.reshape(3,2,2)\n",
    "x\n"
   ]
  },
  {
   "cell_type": "code",
   "execution_count": 577,
   "id": "7da3eb6d-2610-4d57-8cb8-3112d33dfd27",
   "metadata": {},
   "outputs": [
    {
     "data": {
      "text/plain": [
       "array([10,  8])"
      ]
     },
     "execution_count": 577,
     "metadata": {},
     "output_type": "execute_result"
    }
   ],
   "source": [
    "np.add([5 ,3], 5)"
   ]
  },
  {
   "cell_type": "code",
   "execution_count": 587,
   "id": "eda9fb91-f6ff-4f3f-a9d4-83fb7e46e8ad",
   "metadata": {},
   "outputs": [
    {
     "data": {
      "text/plain": [
       "array([-3, -2, -1,  0,  1,  2,  0,  1, -1,  0,  1,  2])"
      ]
     },
     "execution_count": 587,
     "metadata": {},
     "output_type": "execute_result"
    }
   ],
   "source": [
    "np.subtract(a, 4)\n"
   ]
  },
  {
   "cell_type": "code",
   "execution_count": 603,
   "id": "d76425a9-aaa7-476b-b61a-eb7d1006c583",
   "metadata": {},
   "outputs": [
    {
     "data": {
      "text/plain": [
       "5"
      ]
     },
     "execution_count": 603,
     "metadata": {},
     "output_type": "execute_result"
    }
   ],
   "source": [
    "np.argmax(a)"
   ]
  },
  {
   "cell_type": "code",
   "execution_count": 613,
   "id": "36f29390-b5fb-46a5-85d6-f88b4838a894",
   "metadata": {},
   "outputs": [
    {
     "data": {
      "text/plain": [
       "array([[[0.6093129 , 0.07428497, 0.7603194 ],\n",
       "        [0.92842484, 0.03178504, 0.79990804],\n",
       "        [0.5200207 , 0.8699341 , 0.5408371 ],\n",
       "        [0.19506253, 0.28816327, 0.34009686],\n",
       "        [0.76537144, 0.40514433, 0.71369004],\n",
       "        [0.17077923, 0.07859404, 0.7968658 ],\n",
       "        [0.54138494, 0.2511491 , 0.6098537 ],\n",
       "        [0.7874211 , 0.96070224, 0.15481146]],\n",
       "\n",
       "       [[0.7969933 , 0.63544714, 0.64101446],\n",
       "        [0.5878128 , 0.36766785, 0.505608  ],\n",
       "        [0.44150007, 0.911475  , 0.63070947],\n",
       "        [0.5227858 , 0.85647655, 0.94538516],\n",
       "        [0.9988451 , 0.41051987, 0.71490353],\n",
       "        [0.5474668 , 0.62341356, 0.70449895],\n",
       "        [0.8456757 , 0.7326681 , 0.824424  ],\n",
       "        [0.26153716, 0.13512838, 0.10694187]]], dtype=float32)"
      ]
     },
     "execution_count": 613,
     "metadata": {},
     "output_type": "execute_result"
    }
   ],
   "source": [
    "b"
   ]
  },
  {
   "cell_type": "code",
   "execution_count": 619,
   "id": "b2f6d40f-115f-425f-9a48-f0b68fd399bf",
   "metadata": {},
   "outputs": [
    {
     "data": {
      "text/plain": [
       "array([[0.92842484, 0.96070224, 0.79990804],\n",
       "       [0.9988451 , 0.911475  , 0.94538516]], dtype=float32)"
      ]
     },
     "execution_count": 619,
     "metadata": {},
     "output_type": "execute_result"
    }
   ],
   "source": [
    "np.max(b,axis=1)"
   ]
  },
  {
   "cell_type": "code",
   "execution_count": 621,
   "id": "ff235be2-d9f1-4f2e-9ef9-0c0ecfb7cdd7",
   "metadata": {},
   "outputs": [
    {
     "data": {
      "text/plain": [
       "array([ 1,  3,  6, 10, 15, 21, 25, 30, 33, 37, 42, 48])"
      ]
     },
     "execution_count": 621,
     "metadata": {},
     "output_type": "execute_result"
    }
   ],
   "source": [
    "np.cumsum(a)"
   ]
  },
  {
   "cell_type": "code",
   "execution_count": 653,
   "id": "815a02c1-2706-430f-8659-bdc5b91ae5a5",
   "metadata": {},
   "outputs": [
    {
     "name": "stdout",
     "output_type": "stream",
     "text": [
      "[[1 2 3]\n",
      " [1 8 3]\n",
      " [2 3 4]]\n",
      "\n",
      "(3, 3)\n",
      "\n",
      "[[1]\n",
      " [2]\n",
      " [3]]\n",
      "(3, 1)\n"
     ]
    },
    {
     "data": {
      "text/plain": [
       "(3, 3)"
      ]
     },
     "execution_count": 653,
     "metadata": {},
     "output_type": "execute_result"
    }
   ],
   "source": [
    "var=np.array([[1,2,3],[1,8,3],[2,3,4]])\n",
    "var2=np.array([[1],[2],[3]])\n",
    "print(var)\n",
    "print()\n",
    "print(var.shape)\n",
    "print()\n",
    "print(var2)\n",
    "print(var2.shape)\n",
    "a=var+var2\n",
    "a.shape\n"
   ]
  },
  {
   "cell_type": "code",
   "execution_count": 701,
   "id": "e26f54ce-42c3-478f-8e86-e59d88e3c295",
   "metadata": {},
   "outputs": [
    {
     "data": {
      "text/plain": [
       "array([3, 4])"
      ]
     },
     "execution_count": 701,
     "metadata": {},
     "output_type": "execute_result"
    }
   ],
   "source": [
    "var[-1,1:]"
   ]
  },
  {
   "cell_type": "code",
   "execution_count": 699,
   "id": "cca83cbc-803a-432b-88be-a05a258986ad",
   "metadata": {},
   "outputs": [
    {
     "data": {
      "text/plain": [
       "array([1, 5, 3])"
      ]
     },
     "execution_count": 699,
     "metadata": {},
     "output_type": "execute_result"
    }
   ],
   "source": [
    "a[::4]\n"
   ]
  },
  {
   "cell_type": "code",
   "execution_count": 729,
   "id": "6bfc1c19-952e-41b3-a128-abd9ddb122d3",
   "metadata": {},
   "outputs": [
    {
     "name": "stdout",
     "output_type": "stream",
     "text": [
      "1\n",
      "2\n",
      "3\n",
      "4\n",
      "8\n",
      "5\n"
     ]
    }
   ],
   "source": [
    "a=np.array([[1,2,3],[4,8,5]])\n",
    "for l in a:\n",
    "    for i in l:\n",
    "        print(i)"
   ]
  },
  {
   "cell_type": "code",
   "execution_count": 735,
   "id": "09046501-4bba-4991-b8ce-6de388d6f6dd",
   "metadata": {},
   "outputs": [
    {
     "data": {
      "text/plain": [
       "[array([[1],\n",
       "        [4]]),\n",
       " array([[2],\n",
       "        [8]]),\n",
       " array([[3],\n",
       "        [5]])]"
      ]
     },
     "execution_count": 735,
     "metadata": {},
     "output_type": "execute_result"
    }
   ],
   "source": [
    "np.array_split(a,3,axis=1)"
   ]
  },
  {
   "cell_type": "code",
   "execution_count": null,
   "id": "773eb72f-1a9a-4d0d-93e2-fda47fcf125a",
   "metadata": {},
   "outputs": [],
   "source": []
  }
 ],
 "metadata": {
  "kernelspec": {
   "display_name": "Python [conda env:base] *",
   "language": "python",
   "name": "conda-base-py"
  },
  "language_info": {
   "codemirror_mode": {
    "name": "ipython",
    "version": 3
   },
   "file_extension": ".py",
   "mimetype": "text/x-python",
   "name": "python",
   "nbconvert_exporter": "python",
   "pygments_lexer": "ipython3",
   "version": "3.12.7"
  }
 },
 "nbformat": 4,
 "nbformat_minor": 5
}
